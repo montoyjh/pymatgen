{
 "cells": [
  {
   "cell_type": "markdown",
   "metadata": {},
   "source": [
    "This notebook shows how to use the output from VASP DFPT calculation and the phonopy interface to plot the phonon bandstructure.\n",
    "\n",
    "**Requires**: phonopy package (`pip install phonopy`)\n",
    "\n",
    "**Author**: Kiran Mathew"
   ]
  },
  {
   "cell_type": "code",
   "execution_count": 7,
   "metadata": {
    "collapsed": true
   },
   "outputs": [],
   "source": [
    "import os\n",
    "import numpy as np\n",
    "\n",
    "import pymatgen as pmg\n",
    "from pymatgen.io.vasp.outputs import Vasprun\n",
    "\n",
    "from phonopy import Phonopy\n",
    "from phonopy.structure.atoms import Atoms as PhonopyAtoms\n",
    "\n",
    "%matplotlib inline"
   ]
  },
  {
   "cell_type": "markdown",
   "metadata": {},
   "source": [
    "Set the primitive cell"
   ]
  },
  {
   "cell_type": "code",
   "execution_count": 8,
   "metadata": {
    "collapsed": true
   },
   "outputs": [],
   "source": [
    "Si_primitive = PhonopyAtoms(symbols=['Si'] * 2,\n",
    "                            scaled_positions=[(0, 0, 0), (0.75, 0.5, 0.75)] )\n",
    "Si_primitive.set_cell([[3.867422 ,0.000000, 0.000000],\n",
    "                       [1.933711, 3.349287, 0.000000],\n",
    "                       [-0.000000, -2.232856, 3.157737]])\n",
    "\n",
    "# supercell size\n",
    "scell = [[2,0,0],[0,2,0],[0,0,2]]"
   ]
  },
  {
   "cell_type": "markdown",
   "metadata": {},
   "source": [
    "Result from VASP DFPT calculations using the supercell structure"
   ]
  },
  {
   "cell_type": "code",
   "execution_count": 9,
   "metadata": {
    "collapsed": false
   },
   "outputs": [],
   "source": [
    "vrun = Vasprun(os.path.join(os.path.dirname(pmg.__file__), \"..\", 'test_files', \"vasprun.xml.dfpt.phonon\"))"
   ]
  },
  {
   "cell_type": "markdown",
   "metadata": {},
   "source": [
    "Initialize phonopy and set the force constants obtained from VASP"
   ]
  },
  {
   "cell_type": "code",
   "execution_count": 10,
   "metadata": {
    "collapsed": true
   },
   "outputs": [],
   "source": [
    "phonon = Phonopy(Si_primitive, scell)\n",
    "phonon.set_force_constants(vrun.force_constants)"
   ]
  },
  {
   "cell_type": "markdown",
   "metadata": {
    "collapsed": true
   },
   "source": [
    "Define the paths for plotting the bandstructure and set them in phonopy"
   ]
  },
  {
   "cell_type": "code",
   "execution_count": 11,
   "metadata": {
    "collapsed": false
   },
   "outputs": [
    {
     "data": {
      "text/plain": [
       "True"
      ]
     },
     "execution_count": 11,
     "metadata": {},
     "output_type": "execute_result"
    }
   ],
   "source": [
    "bands = []\n",
    "\n",
    "# path 1\n",
    "q_start  = np.array([0.5, 0.5, 0.0])\n",
    "q_end    = np.array([0.0, 0.0, 0.0])\n",
    "band = []\n",
    "for i in range(51):\n",
    "    band.append(q_start + (q_end - q_start) / 50 * i)\n",
    "bands.append(band)\n",
    "\n",
    "# path 2\n",
    "q_start  = np.array([0.0, 0.0, 0.0])\n",
    "q_end    = np.array([0.5, 0.0, 0.0])\n",
    "band = []\n",
    "for i in range(51):\n",
    "    band.append(q_start + (q_end - q_start) / 50 * i)\n",
    "bands.append(band)\n",
    "\n",
    "phonon.set_band_structure(bands)"
   ]
  },
  {
   "cell_type": "code",
   "execution_count": 12,
   "metadata": {
    "collapsed": false
   },
   "outputs": [
    {
     "data": {
      "image/png": "[encoded data removed]",
      "text/plain": [
       "<matplotlib.figure.Figure at 0x10ad64950>"
      ]
     },
     "metadata": {},
     "output_type": "display_data"
    }
   ],
   "source": [
    "phonon.plot_band_structure().show()"
   ]
  }
 ],
 "metadata": {
  "kernelspec": {
   "display_name": "Python 2",
   "language": "python",
   "name": "python2"
  },
  "language_info": {
   "codemirror_mode": {
    "name": "ipython",
    "version": 2
   },
   "file_extension": ".py",
   "mimetype": "text/x-python",
   "name": "python",
   "nbconvert_exporter": "python",
   "pygments_lexer": "ipython2",
   "version": "2.7.10"
  }
 },
 "nbformat": 4,
 "nbformat_minor": 0
}
